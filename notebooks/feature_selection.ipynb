{
 "cells": [
  {
   "cell_type": "code",
   "execution_count": 6,
   "id": "6b35a664",
   "metadata": {},
   "outputs": [],
   "source": [
    "import pandas  as pd\n",
    "import numpy as np\n",
    "from sklearn.feature_selection import SequentialFeatureSelector\n",
    "from sklearn.tree import DecisionTreeClassifier,DecisionTreeRegressor"
   ]
  },
  {
   "cell_type": "code",
   "execution_count": 2,
   "id": "0a273f1d",
   "metadata": {},
   "outputs": [],
   "source": [
    "df=pd.read_csv('../src/data/PIDad9f4187-e1e5-41fd-97d9-e1d4e34a9bea.csv')"
   ]
  },
  {
   "cell_type": "code",
   "execution_count": 3,
   "id": "5ab5ffae",
   "metadata": {},
   "outputs": [
    {
     "data": {
      "text/html": [
       "<div>\n",
       "<style scoped>\n",
       "    .dataframe tbody tr th:only-of-type {\n",
       "        vertical-align: middle;\n",
       "    }\n",
       "\n",
       "    .dataframe tbody tr th {\n",
       "        vertical-align: top;\n",
       "    }\n",
       "\n",
       "    .dataframe thead th {\n",
       "        text-align: right;\n",
       "    }\n",
       "</style>\n",
       "<table border=\"1\" class=\"dataframe\">\n",
       "  <thead>\n",
       "    <tr style=\"text-align: right;\">\n",
       "      <th></th>\n",
       "      <th>Time in seconds</th>\n",
       "      <th>Acceleration reading in G for frontal axis</th>\n",
       "      <th>Acceleration reading in G for vertical axis</th>\n",
       "      <th>Acceleration reading in G for lateral axis</th>\n",
       "      <th>Id of antenna reading sensor</th>\n",
       "      <th>Received signal strength indicator (RSSI)</th>\n",
       "      <th>Phase</th>\n",
       "      <th>Frequency</th>\n",
       "      <th>Label</th>\n",
       "    </tr>\n",
       "  </thead>\n",
       "  <tbody>\n",
       "    <tr>\n",
       "      <th>0</th>\n",
       "      <td>0.50</td>\n",
       "      <td>0.27203</td>\n",
       "      <td>1.00820</td>\n",
       "      <td>-0.082102</td>\n",
       "      <td>1</td>\n",
       "      <td>-63.0</td>\n",
       "      <td>4.7369</td>\n",
       "      <td>921.75</td>\n",
       "      <td>1.0</td>\n",
       "    </tr>\n",
       "    <tr>\n",
       "      <th>1</th>\n",
       "      <td>1.50</td>\n",
       "      <td>0.44791</td>\n",
       "      <td>0.91636</td>\n",
       "      <td>-0.013684</td>\n",
       "      <td>1</td>\n",
       "      <td>-63.5</td>\n",
       "      <td>3.0311</td>\n",
       "      <td>923.75</td>\n",
       "      <td>1.0</td>\n",
       "    </tr>\n",
       "    <tr>\n",
       "      <th>2</th>\n",
       "      <td>1.75</td>\n",
       "      <td>0.44791</td>\n",
       "      <td>0.91636</td>\n",
       "      <td>-0.013684</td>\n",
       "      <td>1</td>\n",
       "      <td>-63.0</td>\n",
       "      <td>2.0371</td>\n",
       "      <td>921.25</td>\n",
       "      <td>1.0</td>\n",
       "    </tr>\n",
       "    <tr>\n",
       "      <th>3</th>\n",
       "      <td>2.50</td>\n",
       "      <td>0.34238</td>\n",
       "      <td>0.96229</td>\n",
       "      <td>-0.059296</td>\n",
       "      <td>1</td>\n",
       "      <td>-63.5</td>\n",
       "      <td>5.8920</td>\n",
       "      <td>920.25</td>\n",
       "      <td>1.0</td>\n",
       "    </tr>\n",
       "    <tr>\n",
       "      <th>4</th>\n",
       "      <td>3.25</td>\n",
       "      <td>0.34238</td>\n",
       "      <td>0.96229</td>\n",
       "      <td>-0.059296</td>\n",
       "      <td>4</td>\n",
       "      <td>-56.5</td>\n",
       "      <td>1.2563</td>\n",
       "      <td>924.75</td>\n",
       "      <td>1.0</td>\n",
       "    </tr>\n",
       "  </tbody>\n",
       "</table>\n",
       "</div>"
      ],
      "text/plain": [
       "   Time in seconds  Acceleration reading in G for frontal axis  \\\n",
       "0             0.50                                     0.27203   \n",
       "1             1.50                                     0.44791   \n",
       "2             1.75                                     0.44791   \n",
       "3             2.50                                     0.34238   \n",
       "4             3.25                                     0.34238   \n",
       "\n",
       "   Acceleration reading in G for vertical axis  \\\n",
       "0                                      1.00820   \n",
       "1                                      0.91636   \n",
       "2                                      0.91636   \n",
       "3                                      0.96229   \n",
       "4                                      0.96229   \n",
       "\n",
       "   Acceleration reading in G for lateral axis  Id of antenna reading sensor  \\\n",
       "0                                   -0.082102                             1   \n",
       "1                                   -0.013684                             1   \n",
       "2                                   -0.013684                             1   \n",
       "3                                   -0.059296                             1   \n",
       "4                                   -0.059296                             4   \n",
       "\n",
       "   Received signal strength indicator (RSSI)   Phase  Frequency  Label  \n",
       "0                                      -63.0  4.7369     921.75    1.0  \n",
       "1                                      -63.5  3.0311     923.75    1.0  \n",
       "2                                      -63.0  2.0371     921.25    1.0  \n",
       "3                                      -63.5  5.8920     920.25    1.0  \n",
       "4                                      -56.5  1.2563     924.75    1.0  "
      ]
     },
     "execution_count": 3,
     "metadata": {},
     "output_type": "execute_result"
    }
   ],
   "source": [
    "df.head()"
   ]
  },
  {
   "cell_type": "code",
   "execution_count": null,
   "id": "b59d760b",
   "metadata": {},
   "outputs": [],
   "source": []
  },
  {
   "cell_type": "code",
   "execution_count": 8,
   "id": "07ef13cb",
   "metadata": {},
   "outputs": [],
   "source": [
    "dclas = DecisionTreeClassifier()"
   ]
  },
  {
   "cell_type": "code",
   "execution_count": 16,
   "id": "3bb2e549",
   "metadata": {},
   "outputs": [],
   "source": [
    "sfs=SequentialFeatureSelector(dclas,n_features_to_select=5,scoring='balanced_accuracy')"
   ]
  },
  {
   "cell_type": "code",
   "execution_count": 17,
   "id": "e4ca52d5",
   "metadata": {},
   "outputs": [],
   "source": [
    "X=df.drop('Label',axis=1)"
   ]
  },
  {
   "cell_type": "code",
   "execution_count": 18,
   "id": "e490c129",
   "metadata": {},
   "outputs": [],
   "source": [
    "y=df['Label']"
   ]
  },
  {
   "cell_type": "code",
   "execution_count": 19,
   "id": "ed0e3b20",
   "metadata": {},
   "outputs": [
    {
     "data": {
      "text/plain": [
       "SequentialFeatureSelector(estimator=DecisionTreeClassifier(),\n",
       "                          n_features_to_select=5, scoring='balanced_accuracy')"
      ]
     },
     "execution_count": 19,
     "metadata": {},
     "output_type": "execute_result"
    }
   ],
   "source": [
    "sfs.fit(X, y)"
   ]
  },
  {
   "cell_type": "code",
   "execution_count": 20,
   "id": "47ff7d22",
   "metadata": {},
   "outputs": [
    {
     "data": {
      "text/plain": [
       "array([ True, False,  True, False,  True,  True,  True, False])"
      ]
     },
     "execution_count": 20,
     "metadata": {},
     "output_type": "execute_result"
    }
   ],
   "source": [
    "sfs.get_support()"
   ]
  },
  {
   "cell_type": "code",
   "execution_count": 27,
   "id": "7b1a9d95",
   "metadata": {},
   "outputs": [
    {
     "data": {
      "text/plain": [
       "['Time in seconds',\n",
       " 'Acceleration reading in G for vertical axis',\n",
       " 'Id of antenna reading sensor',\n",
       " 'Received signal strength indicator (RSSI)',\n",
       " 'Phase']"
      ]
     },
     "execution_count": 27,
     "metadata": {},
     "output_type": "execute_result"
    }
   ],
   "source": [
    "list(X.columns[sfs.get_support()])"
   ]
  },
  {
   "cell_type": "code",
   "execution_count": null,
   "id": "51925a9c",
   "metadata": {},
   "outputs": [],
   "source": []
  }
 ],
 "metadata": {
  "kernelspec": {
   "display_name": "Python 3",
   "language": "python",
   "name": "python3"
  },
  "language_info": {
   "codemirror_mode": {
    "name": "ipython",
    "version": 3
   },
   "file_extension": ".py",
   "mimetype": "text/x-python",
   "name": "python",
   "nbconvert_exporter": "python",
   "pygments_lexer": "ipython3",
   "version": "3.6.9"
  }
 },
 "nbformat": 4,
 "nbformat_minor": 5
}
